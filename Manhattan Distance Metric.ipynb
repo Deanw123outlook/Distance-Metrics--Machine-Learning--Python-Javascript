{
 "cells": [
  {
   "cell_type": "markdown",
   "metadata": {},
   "source": [
    "## Manhattan Distance\n",
    "\n",
    "###### Task\n",
    "\n",
    "Build a program that calculates the Manhattan Distance of a given number of elements from two centroids.\n",
    "\n",
    "Included:\n",
    "\n",
    "User-Interface Program : \n",
    "\n",
    "Completing the manhattan distance calculations. This enables users to interact with the program. However a key takeaway from this project for other python enthusiasts & coders should be not the mathematics involved within the manhattan distance but more so an in depth look at collection type properties and distinguishing which is the best fit for the tasks within this program.\n",
    "\n",
    "De - Bugging :\n",
    "\n",
    "This approach involved breaking down the code into small segements for both detetcing bugs and solving tasks required to build this program. This is a good approach for fellow pythonists in developing programs and building skills behind the scenes to succesfully complete such programs.\n",
    "\n",
    "###### Project Information \n",
    "\n",
    "This program was designed as a subtask of an ongoing project, which is the development of the unsupervised K - Means Clustering Algorithim from scratch ! \n",
    "\n",
    "The rationale for delving into the internals mechanics of the K - Means CLustering Algorithim is simply to gain exposure and experience building algorithims from bottom to top. The aim is to improve & refine skills in python programming which enables such tasks to be succesfully completed to a high standard.\n",
    "\n",
    "Furthermore this subtask (Manhattan Distance) and more specifically it was a follow on from the previous notebook objectives which manually computed the euclidean distance of a number of elements from two centroid points. \n",
    "\n",
    "The overall goal of the development of both the euclidean distance & manhattan distance programs is to build a user inter face system enabling user interaction with the K - Means Clustering Algorithim and specifically enabling the user choice between using either the euclidean or manhattan distance metric. \n",
    "\n",
    "Scikit Learn watch out !!\n",
    "\n",
    "###### Manhattan Distance Information\n",
    "\n",
    "The Manhattan Distance also known as the city block distance or taxi distance formula is equivalent to a Minkowsky distance with P = 1.\n",
    "\n",
    "The Manhattan Distance is the distance measured along axes at right angles !\n",
    "\n",
    "There are subtle differences within the calculations utilized to find the Euclidean Distance. The rationale for these subtle differences would be best left to be explained by mathmaticians or other experienced experts within the field of computer science, mathematics or related fields.\n",
    "\n",
    "###### MANHATAN DISTANCE FORMULA:\n",
    "\n",
    "                                  d([x1,y1],[x2,y2]) = |x2 - x1| + |y2 - y1| "
   ]
  },
  {
   "cell_type": "code",
   "execution_count": 2,
   "metadata": {},
   "outputs": [],
   "source": [
    "#import required libraries\n",
    "import numpy as np\n",
    "import pandas as pd\n",
    "import random\n",
    "import matplotlib.pyplot as plt"
   ]
  },
  {
   "cell_type": "markdown",
   "metadata": {},
   "source": [
    "NOTE\n",
    "\n",
    "The code below does not use the same codes within the formula above due to writing the correct code for completing the manhattan distance."
   ]
  },
  {
   "cell_type": "markdown",
   "metadata": {},
   "source": [
    "###### User-Interface Program | Manhattan DIstance\n",
    "INSTRUCTIONS\n",
    "\n",
    "- Enter the number of elements you wish to caculate the manhattan distace for !\n",
    "- Enter two centroid x & y co ordinates to compute the manhattan distance from the given number of elements.\n",
    "- Read & Follow the below instructions"
   ]
  },
  {
   "cell_type": "code",
   "execution_count": 6,
   "metadata": {},
   "outputs": [
    {
     "name": "stdout",
     "output_type": "stream",
     "text": [
      "Please Read & Follow Instructions\n",
      "Please input the number of elements that you wish to calculate the manhattan distance from the two centoids:\n",
      "23\n",
      "Please input the max range :\n",
      "150\n",
      "x co - ordinates [105, 140, 126, 55, 145, 82, 47, 118, 44, 80, 140, 129, 108, 65, 98, 123, 84, 123, 143, 48, 98, 149, 86]\n",
      "y co - ordinates [40, 104, 49, 37, 140, 126, 30, 133, 76, 100, 69, 101, 11, 46, 129, 72, 117, 109, 19, 35, 15, 130, 43]\n",
      "Please enter centroid 1 co - ordinates\n",
      "Enter x co - ordinate\n",
      "23\n",
      "Enter y co - ordinate\n",
      "34\n",
      "Centroid 1 x co - ordinates: 23\n",
      "Centroid 1 y co - ordinates: 34\n",
      "Please enter centroid 2 co - ordinates\n",
      "Enter x co - ordinate\n",
      "23\n",
      "Enter y co - ordinate\n",
      "66\n",
      "Centroid 2 x co - ordinates: 23\n",
      "Centroid 2 y co - ordinates: 66\n",
      "Manhattan Distance | Centroid 1 : [-88, -187, -118, -35, -228, -151, -20, -194, -63, -123, -152, -173, -62, -54, -170, -138, -144, -175, -105, -26, -56, -222, -72]\n",
      "Manhattan Distance | Centroid 2 : [-56, -155, -86, -3, -196, -119, 12, -162, -31, -91, -120, -141, -30, -22, -138, -106, -112, -143, -73, 6, -24, -190, -40]\n"
     ]
    }
   ],
   "source": [
    "print('Please Read & Follow Instructions')\n",
    "print('Please input the number of elements that you wish to calculate the manhattan distance from the two centoids:')\n",
    "n1 = input()\n",
    "#convert string to integer rationale range function & randinint requires interger value\n",
    "n1 = int(n1)\n",
    "print('Please input the max range :')\n",
    "n2 = input()\n",
    "n2 = int(n2)\n",
    "\n",
    "#create two random lists to hold X & Y co - ordinates of elements\n",
    "#X co-ordinates\n",
    "X = []\n",
    "#Y co - ordinates\n",
    "Y = []\n",
    "\n",
    "#intialize for loop with the range function (start/end)\n",
    "for i in range(0,n1):\n",
    "    #Generates a random number between a given positive range\n",
    "    x = random.randint(1,n2)\n",
    "    #appends to empty list(adds)\n",
    "    X.append(x)\n",
    "for i in range(0,n1):\n",
    "    y = random.randint(1,n2)\n",
    "    Y.append(y)\n",
    "    \n",
    "print('x co - ordinates',X)\n",
    "print('y co - ordinates',Y)\n",
    "\n",
    "print('Please enter centroid 1 co - ordinates')\n",
    "print('Enter x co - ordinate')\n",
    "cx1 = input()\n",
    "cx1 = int(cx1)\n",
    "print('Enter y co - ordinate')\n",
    "cy1 = input()\n",
    "cy1 = int(cy1)\n",
    "print('Centroid 1 x co - ordinates:',cx1)\n",
    "print('Centroid 1 y co - ordinates:',cy1)\n",
    "\n",
    "print('Please enter centroid 2 co - ordinates')\n",
    "print('Enter x co - ordinate')\n",
    "cx2 = input()\n",
    "cx2 = int(cx2)\n",
    "print('Enter y co - ordinate')\n",
    "cy2 = input()\n",
    "cy2 = int(cy2)\n",
    "print('Centroid 2 x co - ordinates:',cx2)\n",
    "print('Centroid 2 y co - ordinates:',cy2)\n",
    "\n",
    "#Initiate empty list\n",
    "list1 = []\n",
    "list2 = []\n",
    "\n",
    "#initiate for loop looping through both lists . zipped .. together in the sequence desired for specific cacluations\n",
    "for x,y in zip(X,Y):\n",
    "    #while loop : iterations continues until list length exceeds the other list length\n",
    "    while len(X) <= len(Y):\n",
    "        #append(add) calculations to empty list\n",
    "        list1.append((cx1 - x) + (cy1 - y))\n",
    "        #break essential for termination of the iteration process when conditions are met.\n",
    "        #If not while looped would continue..... its iteration process\n",
    "        break\n",
    "for i,f in zip(X,Y):\n",
    "    while len(X) <= len(Y):\n",
    "        list2.append((cx2 - i) + (cy2 - f))\n",
    "        break\n",
    "\n",
    "print('Manhattan Distance | Centroid 1 :', list1)\n",
    "print('Manhattan Distance | Centroid 2 :', list2)"
   ]
  },
  {
   "cell_type": "markdown",
   "metadata": {},
   "source": [
    "###### De - Bugging\n",
    "Identification of errors generated from calculations. \n",
    "\n",
    "Calculations including all the specified values have been externally & manually checked confirming the programs 100% accuracy calculating the euclidean distance from the two specified centroids.\n",
    "\n",
    "This approach along with breaking the computations into small segements prooved usefull in detecting bugs and providing solutions."
   ]
  },
  {
   "cell_type": "code",
   "execution_count": 12,
   "metadata": {},
   "outputs": [
    {
     "name": "stdout",
     "output_type": "stream",
     "text": [
      "Manhattan Distance : [-2, -4, -5, -6, -1, -4]\n",
      "Manhattan Distance : [5, 3, 2, 1, 6, 3]\n"
     ]
    }
   ],
   "source": [
    "##Manhattan Distance\n",
    "#create x/y co - ordinates (data points)\n",
    "X = [1,3,4,5,1,4]\n",
    "Y = [3,3,3,3,2,2]\n",
    "\n",
    "#centroid 1 co-ordinates\n",
    "cx1 = 1\n",
    "cy1 = 1\n",
    "#centorid 2 co-ordinates\n",
    "cx2 = 4\n",
    "cy2 = 5\n",
    "\n",
    "#Initiate empty list\n",
    "list1 = []\n",
    "list2 = []\n",
    "\n",
    "for x,y in zip(X,Y):\n",
    "    while len(X) <= len(Y):\n",
    "        list1.append((cx1 - x) + (cy1 - y))\n",
    "        break\n",
    "for i,f in zip(X,Y):\n",
    "    while len(X) <= len(Y):\n",
    "        list2.append((cx2 - i) + (cy2 - f))\n",
    "        break\n",
    "\n",
    "print('Manhattan Distance :', list1)\n",
    "print('Manhattan Distance :', list2)"
   ]
  },
  {
   "cell_type": "markdown",
   "metadata": {},
   "source": [
    "We can confirm these calculation are correct as external manual calculations have been completed to evaluate and test the programs accuracy."
   ]
  },
  {
   "cell_type": "code",
   "execution_count": null,
   "metadata": {},
   "outputs": [],
   "source": []
  }
 ],
 "metadata": {
  "kernelspec": {
   "display_name": "Python 3",
   "language": "python",
   "name": "python3"
  },
  "language_info": {
   "codemirror_mode": {
    "name": "ipython",
    "version": 3
   },
   "file_extension": ".py",
   "mimetype": "text/x-python",
   "name": "python",
   "nbconvert_exporter": "python",
   "pygments_lexer": "ipython3",
   "version": "3.8.3"
  }
 },
 "nbformat": 4,
 "nbformat_minor": 4
}
